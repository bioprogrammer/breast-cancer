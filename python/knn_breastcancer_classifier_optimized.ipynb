{
 "cells": [
  {
   "cell_type": "code",
   "execution_count": 60,
   "metadata": {
    "ExecuteTime": {
     "end_time": "2019-05-01T22:42:55.794078Z",
     "start_time": "2019-05-01T22:42:55.428287Z"
    },
    "scrolled": true
   },
   "outputs": [
    {
     "name": "stdout",
     "output_type": "stream",
     "text": [
      "Accuracy of kNN (test data) using a range of neighbors: 95.8%\n"
     ]
    },
    {
     "data": {
      "image/png": "[encoded data removed]",
      "text/plain": [
       "<Figure size 432x288 with 1 Axes>"
      ]
     },
     "metadata": {
      "needs_background": "light"
     },
     "output_type": "display_data"
    }
   ],
   "source": [
    "# Programmer: Caitlin Gibbons\n",
    "# Date: 2019.5.1\n",
    "# Language: Python\n",
    "# Purpose: Construct a kNN classifier in a Jupyter Notebook format.\n",
    "\n",
    "# Import the packages used by the classifier\n",
    "import pandas as pd \n",
    "from sklearn.datasets import load_breast_cancer\n",
    "from sklearn.neighbors import KNeighborsClassifier\n",
    "from sklearn.model_selection import train_test_split\n",
    "import matplotlib.pyplot as plt\n",
    "\n",
    "# Display plots amd graphs inside the notebook\n",
    "%matplotlib inline\n",
    "\n",
    "# Load the cancer dataset and store it in the 'cancer' object\n",
    "cancer = load_breast_cancer()\n",
    "\n",
    "# Partition the data into both training and testing portions. The function parameters refer to the data features,\n",
    "# labels, i.e., benign or malignant, the values to iterate over, and a random seed value\n",
    "x_train, x_test, y_train, y_test = train_test_split(cancer.data, cancer.target, stratify = cancer.target, random_state = 75)\n",
    "\n",
    "# Construct two list objects\n",
    "training_accuracy = []\n",
    "test_accuracy = []\n",
    "\n",
    "# Define the range, 1 to 10 (inclusive) that will be used as value of 'k' with each loop iteration\n",
    "neighbors_settings = range(1, 11)\n",
    "\n",
    "# Loop over the 10 values specified above\n",
    "for n_neighbors in neighbors_settings:\n",
    "    \n",
    "    # Construct the classifier model and pass it the number of neighbors to use\n",
    "    clf = KNeighborsClassifier(n_neighbors = n_neighbors)\n",
    "    \n",
    "    # Fit the classification model to the training data\n",
    "    clf.fit(x_train, y_train)\n",
    "    \n",
    "    # Append the score obtained from the classifier to training_accuracy list\n",
    "    training_accuracy.append(clf.score(x_train, y_train))\n",
    "    \n",
    "    # Append the score obtained from the classifier to test_accuracy list\n",
    "    test_accuracy.append(clf.score(x_test, y_test))\n",
    "\n",
    "# Display the plot of both the number of neighbors used and the training and testing\n",
    "# accuracy in a line plot. Include a color coded legend\n",
    "plt.plot(neighbors_settings, training_accuracy, label = 'Accuracy of the training set')\n",
    "plt.plot(neighbors_settings, test_accuracy, label = 'Accuracy of the test set')\n",
    "\n",
    "# Display both an x and y label\n",
    "plt.ylabel('Accuracy')\n",
    "plt.xlabel('Number of Neighbors')\n",
    "\n",
    "# Display the legend\n",
    "plt.legend()\n",
    "\n",
    "# Display the accuracy of the classifier model when working with the test data to one decimal point\n",
    "print('Accuracy of kNN (test data) using a range of neighbors: {:.1f}%'.format(knn.score(x_test, y_test) * 100))"
   ]
  },
  {
   "cell_type": "code",
   "execution_count": null,
   "metadata": {},
   "outputs": [],
   "source": []
  }
 ],
 "metadata": {
  "hide_input": false,
  "kernelspec": {
   "display_name": "Python 3",
   "language": "python",
   "name": "python3"
  },
  "language_info": {
   "codemirror_mode": {
    "name": "ipython",
    "version": 3
   },
   "file_extension": ".py",
   "mimetype": "text/x-python",
   "name": "python",
   "nbconvert_exporter": "python",
   "pygments_lexer": "ipython3",
   "version": "3.7.3"
  },
  "latex_envs": {
   "LaTeX_envs_menu_present": true,
   "autoclose": false,
   "autocomplete": true,
   "bibliofile": "biblio.bib",
   "cite_by": "apalike",
   "current_citInitial": 1,
   "eqLabelWithNumbers": true,
   "eqNumInitial": 1,
   "hotkeys": {
    "equation": "Ctrl-E",
    "itemize": "Ctrl-I"
   },
   "labels_anchors": false,
   "latex_user_defs": false,
   "report_style_numbering": false,
   "user_envs_cfg": false
  },
  "nbTranslate": {
   "displayLangs": [
    "*"
   ],
   "hotkey": "alt-t",
   "langInMainMenu": true,
   "sourceLang": "en",
   "targetLang": "fr",
   "useGoogleTranslate": true
  },
  "toc": {
   "base_numbering": 1,
   "nav_menu": {},
   "number_sections": true,
   "sideBar": true,
   "skip_h1_title": false,
   "title_cell": "Table of Contents",
   "title_sidebar": "Contents",
   "toc_cell": false,
   "toc_position": {},
   "toc_section_display": true,
   "toc_window_display": false
  },
  "varInspector": {
   "cols": {
    "lenName": 16,
    "lenType": 16,
    "lenVar": 40
   },
   "kernels_config": {
    "python": {
     "delete_cmd_postfix": "",
     "delete_cmd_prefix": "del ",
     "library": "var_list.py",
     "varRefreshCmd": "print(var_dic_list())"
    },
    "r": {
     "delete_cmd_postfix": ") ",
     "delete_cmd_prefix": "rm(",
     "library": "var_list.r",
     "varRefreshCmd": "cat(var_dic_list()) "
    }
   },
   "types_to_exclude": [
    "module",
    "function",
    "builtin_function_or_method",
    "instance",
    "_Feature"
   ],
   "window_display": false
  }
 },
 "nbformat": 4,
 "nbformat_minor": 2
}
